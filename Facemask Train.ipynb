{
 "cells": [
  {
   "cell_type": "code",
   "execution_count": 1,
   "id": "b31d1d6b",
   "metadata": {},
   "outputs": [],
   "source": [
    "from tensorflow.keras.optimizers import RMSprop\n",
    "from keras.preprocessing.image import ImageDataGenerator\n",
    "import cv2\n",
    "from keras.models import Sequential\n",
    "from keras.layers import Conv2D, Input, ZeroPadding2D, BatchNormalization, Activation, MaxPooling2D, Flatten, Dense,Dropout\n",
    "from keras.models import Model, load_model\n",
    "from keras.callbacks import TensorBoard, ModelCheckpoint\n",
    "from sklearn.model_selection import train_test_split\n",
    "from sklearn.metrics import f1_score\n",
    "from sklearn.utils import shuffle\n",
    "import imutils\n",
    "import numpy as np"
   ]
  },
  {
   "cell_type": "code",
   "execution_count": 2,
   "id": "7d06f2e5",
   "metadata": {},
   "outputs": [],
   "source": [
    "model = Sequential([\n",
    "    Conv2D(100, (3,3), activation='relu', input_shape=(150, 150, 3)),\n",
    "    MaxPooling2D(2,2),\n",
    "    \n",
    "    Conv2D(100, (3,3), activation='relu'),\n",
    "    MaxPooling2D(2,2),\n",
    "    \n",
    "    Flatten(),\n",
    "    Dropout(0.5),\n",
    "    Dense(50, activation='relu'),\n",
    "    Dense(2, activation='softmax')\n",
    "])\n",
    "model.compile(optimizer='adam', loss='binary_crossentropy', metrics=['acc'])"
   ]
  },
  {
   "cell_type": "code",
   "execution_count": 3,
   "id": "ae51d741",
   "metadata": {},
   "outputs": [
    {
     "name": "stdout",
     "output_type": "stream",
     "text": [
      "Found 1315 images belonging to 2 classes.\n",
      "Found 194 images belonging to 2 classes.\n"
     ]
    }
   ],
   "source": [
    "TRAINING_DIR = \"C:/Users/NIKHIL/OneDrive/Desktop/Face mask/Dataset/train\"\n",
    "train_datagen = ImageDataGenerator(rescale=1.0/255,\n",
    "                                   rotation_range=40,\n",
    "                                   width_shift_range=0.2,\n",
    "                                   height_shift_range=0.2,\n",
    "                                   shear_range=0.2,\n",
    "                                   zoom_range=0.2,\n",
    "                                   horizontal_flip=True,\n",
    "                                   fill_mode='nearest')\n",
    "train_generator = train_datagen.flow_from_directory(TRAINING_DIR, \n",
    "                                                    batch_size=10, \n",
    "                                                    target_size=(150, 150))\n",
    "VALIDATION_DIR = \"C:/Users/NIKHIL/OneDrive/Desktop/Face mask/Dataset/test\"\n",
    "validation_datagen = ImageDataGenerator(rescale=1.0/255)\n",
    "validation_generator = validation_datagen.flow_from_directory(VALIDATION_DIR, \n",
    "                                                         batch_size=10, \n",
    "                                                         target_size=(150, 150))"
   ]
  },
  {
   "cell_type": "code",
   "execution_count": 4,
   "id": "955168a3",
   "metadata": {},
   "outputs": [],
   "source": [
    "checkpoint = ModelCheckpoint('model2-{epoch:03d}.model',monitor='val_loss',verbose=0,save_best_only=True,mode='auto')\n"
   ]
  },
  {
   "cell_type": "code",
   "execution_count": 5,
   "id": "4291ce13",
   "metadata": {},
   "outputs": [
    {
     "name": "stderr",
     "output_type": "stream",
     "text": [
      "C:\\Users\\NIKHIL\\AppData\\Local\\Temp/ipykernel_9996/3620006576.py:1: UserWarning: `Model.fit_generator` is deprecated and will be removed in a future version. Please use `Model.fit`, which supports generators.\n",
      "  history = model.fit_generator(train_generator,\n"
     ]
    },
    {
     "name": "stdout",
     "output_type": "stream",
     "text": [
      "Epoch 1/10\n",
      "132/132 [==============================] - ETA: 0s - loss: 0.7064 - acc: 0.5901INFO:tensorflow:Assets written to: model2-001.model\\assets\n",
      "132/132 [==============================] - 67s 505ms/step - loss: 0.7064 - acc: 0.5901 - val_loss: 0.3863 - val_acc: 0.8711\n",
      "Epoch 2/10\n",
      "132/132 [==============================] - ETA: 0s - loss: 0.4046 - acc: 0.8411INFO:tensorflow:Assets written to: model2-002.model\\assets\n",
      "132/132 [==============================] - 69s 526ms/step - loss: 0.4046 - acc: 0.8411 - val_loss: 0.1628 - val_acc: 0.9227\n",
      "Epoch 3/10\n",
      "132/132 [==============================] - ETA: 0s - loss: 0.3092 - acc: 0.8776INFO:tensorflow:Assets written to: model2-003.model\\assets\n",
      "132/132 [==============================] - 67s 509ms/step - loss: 0.3092 - acc: 0.8776 - val_loss: 0.1143 - val_acc: 0.9536\n",
      "Epoch 4/10\n",
      "132/132 [==============================] - 68s 517ms/step - loss: 0.2515 - acc: 0.9019 - val_loss: 0.1622 - val_acc: 0.9330\n",
      "Epoch 5/10\n",
      "132/132 [==============================] - ETA: 0s - loss: 0.2464 - acc: 0.9027INFO:tensorflow:Assets written to: model2-005.model\\assets\n",
      "132/132 [==============================] - 68s 515ms/step - loss: 0.2464 - acc: 0.9027 - val_loss: 0.0987 - val_acc: 0.9691\n",
      "Epoch 6/10\n",
      "132/132 [==============================] - 66s 503ms/step - loss: 0.2502 - acc: 0.9027 - val_loss: 0.1146 - val_acc: 0.9588\n",
      "Epoch 7/10\n",
      "132/132 [==============================] - ETA: 0s - loss: 0.2023 - acc: 0.9300INFO:tensorflow:Assets written to: model2-007.model\\assets\n",
      "132/132 [==============================] - 68s 511ms/step - loss: 0.2023 - acc: 0.9300 - val_loss: 0.0920 - val_acc: 0.9691\n",
      "Epoch 8/10\n",
      "132/132 [==============================] - 66s 498ms/step - loss: 0.2063 - acc: 0.9331 - val_loss: 0.0978 - val_acc: 0.9639\n",
      "Epoch 9/10\n",
      "132/132 [==============================] - ETA: 0s - loss: 0.1952 - acc: 0.9308INFO:tensorflow:Assets written to: model2-009.model\\assets\n",
      "132/132 [==============================] - 67s 508ms/step - loss: 0.1952 - acc: 0.9308 - val_loss: 0.0443 - val_acc: 0.9897\n",
      "Epoch 10/10\n",
      "132/132 [==============================] - 66s 503ms/step - loss: 0.1882 - acc: 0.9354 - val_loss: 0.0613 - val_acc: 0.9794\n"
     ]
    }
   ],
   "source": [
    "history = model.fit_generator(train_generator,\n",
    "                              epochs=10,\n",
    "                              validation_data=validation_generator,\n",
    "                              callbacks=[checkpoint])"
   ]
  },
  {
   "cell_type": "code",
   "execution_count": null,
   "id": "749a6b12",
   "metadata": {},
   "outputs": [],
   "source": []
  },
  {
   "cell_type": "code",
   "execution_count": null,
   "id": "94ba512f",
   "metadata": {},
   "outputs": [],
   "source": []
  }
 ],
 "metadata": {
  "kernelspec": {
   "display_name": "Python 3 (ipykernel)",
   "language": "python",
   "name": "python3"
  },
  "language_info": {
   "codemirror_mode": {
    "name": "ipython",
    "version": 3
   },
   "file_extension": ".py",
   "mimetype": "text/x-python",
   "name": "python",
   "nbconvert_exporter": "python",
   "pygments_lexer": "ipython3",
   "version": "3.9.6"
  }
 },
 "nbformat": 4,
 "nbformat_minor": 5
}
